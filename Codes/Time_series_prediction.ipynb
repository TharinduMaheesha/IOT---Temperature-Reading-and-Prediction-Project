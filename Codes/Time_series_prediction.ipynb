{
 "cells": [
  {
   "cell_type": "markdown",
   "metadata": {},
   "source": [
    "# Time series prediction"
   ]
  },
  {
   "cell_type": "markdown",
   "metadata": {},
   "source": [
    "## 1) Importing Necessary libraries"
   ]
  },
  {
   "cell_type": "code",
   "execution_count": 18,
   "metadata": {},
   "outputs": [],
   "source": [
    "import pickle\n",
    "from datetime import date , datetime\n",
    "import mysql.connector\n"
   ]
  },
  {
   "cell_type": "markdown",
   "metadata": {},
   "source": [
    "## 2) Importing the model as a pickle file"
   ]
  },
  {
   "cell_type": "code",
   "execution_count": 19,
   "metadata": {},
   "outputs": [],
   "source": [
    "filename = 'modelForIOT.sav'\n",
    "loaded_model = pickle.load(open(filename, 'rb')) # loading the model file from the storage"
   ]
  },
  {
   "cell_type": "markdown",
   "metadata": {},
   "source": [
    "## 3) Creating a connection to the database"
   ]
  },
  {
   "cell_type": "code",
   "execution_count": 20,
   "metadata": {},
   "outputs": [],
   "source": [
    "conn = mysql.connector.connect(\n",
    "    host=\"localhost\",\n",
    "    database=\"iotdba_2022_05_database\",\n",
    "    user=\"root\",\n",
    "    password=\"\" ,\n",
    "    port = \"3308\")\n",
    "\n",
    "cursor = conn.cursor()"
   ]
  },
  {
   "cell_type": "markdown",
   "metadata": {},
   "source": [
    "## 4) Getting existing data for validation from the database"
   ]
  },
  {
   "cell_type": "code",
   "execution_count": 21,
   "metadata": {},
   "outputs": [],
   "source": [
    "cursor.execute(\"select * from predicts\")\n",
    "f = []\n",
    "g = []\n",
    "for i in cursor:\n",
    "    f.append(str(i[0]))\n",
    "    g.append(i[1])"
   ]
  },
  {
   "cell_type": "markdown",
   "metadata": {},
   "source": [
    "## 5) Arranging the current date in required format for prediction "
   ]
  },
  {
   "cell_type": "code",
   "execution_count": 22,
   "metadata": {},
   "outputs": [],
   "source": [
    "today = date.today()\n",
    "# dd/mm/YY\n",
    "d1 = today.strftime(\"%m/%d/%Y\")\n",
    "s = d1.split(\"/\")\n",
    "s[2] = int(s[2])+1\n",
    "new = s[0]+\"/\"+str(1)+\"/\"+str(s[2])"
   ]
  },
  {
   "cell_type": "markdown",
   "metadata": {},
   "source": [
    "## 6) Prediction"
   ]
  },
  {
   "cell_type": "code",
   "execution_count": 23,
   "metadata": {},
   "outputs": [
    {
     "name": "stderr",
     "output_type": "stream",
     "text": [
      "d:\\pyenv\\penv\\lib\\site-packages\\statsmodels\\tsa\\base\\tsa_model.py:132: FutureWarning: The 'freq' argument in Timestamp is deprecated and will be removed in a future version.\n",
      "  date_key = Timestamp(key, freq=base_index.freq)\n"
     ]
    },
    {
     "data": {
      "text/plain": [
       "2013-10-01    28.236614\n",
       "2013-11-01    28.560147\n",
       "2013-12-01    27.446360\n",
       "2014-01-01    26.023771\n",
       "2014-02-01    25.723927\n",
       "                ...    \n",
       "2022-11-01    28.556746\n",
       "2022-12-01    27.467595\n",
       "2023-01-01    26.074717\n",
       "2023-02-01    25.770663\n",
       "2023-03-01    26.858811\n",
       "Freq: MS, Length: 114, dtype: float64"
      ]
     },
     "execution_count": 23,
     "metadata": {},
     "output_type": "execute_result"
    }
   ],
   "source": [
    "predictions = loaded_model.predict('10/01/2013',new)\n",
    "predictions"
   ]
  },
  {
   "cell_type": "markdown",
   "metadata": {},
   "source": [
    "## Inserting into the database"
   ]
  },
  {
   "cell_type": "markdown",
   "metadata": {},
   "source": [
    "#### If the prediction for a specific date exists it will be checked if the temperature in the database and the newly predicted value is the same\n",
    "#### If same no change will be done\n",
    "#### If changed the value will be updated in the database"
   ]
  },
  {
   "cell_type": "code",
   "execution_count": 24,
   "metadata": {},
   "outputs": [],
   "source": [
    "for i,j in predictions.items():\n",
    "    my_date = datetime.strftime(i, '%Y-%m-%d')\n",
    "    if my_date not in f:\n",
    "        cursor.execute(\"INSERT INTO `predicts` (`date`, `temperature`) VALUES ('\"+ my_date +\"', \"+ str(j) +\")\")\n",
    "    elif round(j,4) not in g:\n",
    "        cursor.execute(\"UPDATE `predicts` SET `temperature` = '\"+str(j)+\"' WHERE `predicts`.`date` = '\"+ my_date +\"'\")"
   ]
  }
 ],
 "metadata": {
  "interpreter": {
   "hash": "ee25deaa157146aa5ab983906bb6a065bee9b1c63fc59cc7edac0e5187fae9dd"
  },
  "kernelspec": {
   "display_name": "Python 3.9.7 64-bit ('penv': venv)",
   "language": "python",
   "name": "python3"
  },
  "language_info": {
   "codemirror_mode": {
    "name": "ipython",
    "version": 3
   },
   "file_extension": ".py",
   "mimetype": "text/x-python",
   "name": "python",
   "nbconvert_exporter": "python",
   "pygments_lexer": "ipython3",
   "version": "3.9.12"
  },
  "orig_nbformat": 4
 },
 "nbformat": 4,
 "nbformat_minor": 2
}
